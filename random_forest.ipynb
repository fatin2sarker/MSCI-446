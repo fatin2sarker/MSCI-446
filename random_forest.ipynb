{
 "cells": [
  {
   "cell_type": "markdown",
   "metadata": {},
   "source": [
    "The algorithm employs a random forest classifier to predict ingredient importance based on recipe features, without implementing bootstrapping.\n",
    "This code lacks bootstrapping, resulting in a single decision tree instead of an ensemble, potentially leading to lower model robustness and generalization.\n",
    "\n",
    "Accuracy: 0.5263157894736842"
   ]
  },
  {
   "cell_type": "code",
   "execution_count": 38,
   "metadata": {},
   "outputs": [
    {
     "name": "stdout",
     "output_type": "stream",
     "text": [
      "                         Recipe  \\\n",
      "0                     Apple Pie   \n",
      "1                   Beef Burger   \n",
      "2                     Beef Stew   \n",
      "3                Broccoli Salad   \n",
      "4                   Carrot Cake   \n",
      "..                          ...   \n",
      "89          Korean Bulgogi Beef   \n",
      "90  Jamaican Ackee and Saltfish   \n",
      "91      Lebanese Fattoush Salad   \n",
      "92          Thai Massaman Curry   \n",
      "93            Italian Osso Buco   \n",
      "\n",
      "                                           Ingredient Recipe Category  \\\n",
      "0   ['Apple', 'Sugar', 'Flour', 'Butter', 'Cinnamon']       American    \n",
      "1   ['Ground beef', 'Lettuce', 'Tomato', 'Bun', 'C...       American    \n",
      "2   ['Beef', 'Potatoes', 'Carrots', 'Beef broth', ...          French   \n",
      "3   ['Broccoli florets', 'Almonds', 'Dried cranber...        American   \n",
      "4    ['Carrot', 'Flour', 'Sugar', 'Eggs', 'Cinnamon']        European   \n",
      "..                                                ...             ...   \n",
      "89  ['Beef', 'Soy sauce', 'Sesame oil', 'Garlic', ...          Korean   \n",
      "90  ['Ackee fruit', 'Salted codfish', 'Onions', 'T...        Jamaican   \n",
      "91  ['Lettuce', 'Cucumbers', 'Tomatoes', 'Radishes...        Lebanese   \n",
      "92  ['Chicken or beef', 'Potatoes', 'Coconut milk'...            Thai   \n",
      "93  ['Veal shanks', 'Tomatoes', 'Carrots', 'Onions...         Italian   \n",
      "\n",
      "   Recipe Difficulty    Calories  Carbohydrates   Proteins  \\\n",
      "0             Medium  358.500000      28.975000  17.925000   \n",
      "1             Medium  348.600000      30.945455  17.927273   \n",
      "2               Easy  343.628571      30.885714  16.757143   \n",
      "3               Easy  357.658823      28.129412  16.764706   \n",
      "4               Easy  353.400000      27.350000  17.600000   \n",
      "..               ...         ...            ...        ...   \n",
      "89              Hard  395.830000      29.590000  15.720000   \n",
      "90              Hard  329.560000      35.760000  11.490000   \n",
      "91            Medium  347.730000      34.950000  17.640000   \n",
      "92            Medium  237.360000      29.320000  22.840000   \n",
      "93              Hard  248.920000      30.550000  25.910000   \n",
      "\n",
      "                            Quantity  \\\n",
      "0                [6, 3/4, 2, 1/4, 1]   \n",
      "1                  [500, 4, 1, 4, 4]   \n",
      "2                  [500, 3, 2, 4, 1]   \n",
      "3                [4, 1/4, 1/2, 1, 2]   \n",
      "4                    [2, 2, 1, 4, 2]   \n",
      "..                               ...   \n",
      "89            [300, 3, 2, 3, 2, 1/4]   \n",
      "90          [1, 200, 1/2, 1/2, 1, 2]   \n",
      "91    [2, 1, 1, 1/2, 1/4, 2, 1, 1/4]   \n",
      "92          [300, 1, 400, 2, 1/4, 1]   \n",
      "93  [800, 1, 1/2, 1/2, 1/2, 2, 1, 2]   \n",
      "\n",
      "                                                 Unit Dietary Preference  \\\n",
      "0   ['whole', 'cup', 'tablespoons', 'cup', 'teaspo...               None   \n",
      "1    ['grams', 'leaves', 'whole', 'halves', 'slices']               None   \n",
      "2       ['grams', 'medium', 'large', 'cups', 'large']               None   \n",
      "3        ['cups', 'cup', 'cup', 'cup', 'tablespoons']               None   \n",
      "4       ['cups', 'cups', 'cup', 'whole', 'teaspoons']               None   \n",
      "..                                                ...                ...   \n",
      "89  ['grams', 'sliced', 'tablespoons', 'tablespoon...        Gluten-Free   \n",
      "90  ['can', 'grams', 'sliced', 'chopped', 'seeded ...               None   \n",
      "91  ['cups', 'chopped', 'diced', 'diced', 'sliced'...               None   \n",
      "92  ['grams', 'cubed', 'cup', 'cubed', 'can (ml)',...               None   \n",
      "93  ['grams', 'cup', 'diced', 'diced', 'diced', 'm...              Vegan   \n",
      "\n",
      "      Health Goals  \n",
      "0   General Health  \n",
      "1   General Health  \n",
      "2   General Health  \n",
      "3   General Health  \n",
      "4   General Health  \n",
      "..             ...  \n",
      "89     Muscle Gain  \n",
      "90  General Health  \n",
      "91  General Health  \n",
      "92  General Health  \n",
      "93      Eye Health  \n",
      "\n",
      "[94 rows x 11 columns]\n"
     ]
    }
   ],
   "source": [
    "# Import necessary libraries\n",
    "import pandas as pd\n",
    "from sklearn.ensemble import RandomForestClassifier\n",
    "from sklearn.model_selection import train_test_split\n",
    "from sklearn.metrics import accuracy_score\n",
    "from sklearn.calibration import LabelEncoder\n",
    "import matplotlib.pyplot as plt\n",
    "\n",
    "\n",
    "# Load the dataset\n",
    "data = pd.read_csv(\"updated_cleaned_recipe_dataset.csv\")\n",
    "\n",
    "# Print the dataset\n",
    "print(data)"
   ]
  },
  {
   "cell_type": "code",
   "execution_count": 39,
   "metadata": {},
   "outputs": [],
   "source": [
    "# Handle missing values if any\n",
    "data.dropna(inplace=True)"
   ]
  },
  {
   "cell_type": "code",
   "execution_count": 40,
   "metadata": {},
   "outputs": [],
   "source": [
    "# Encode categorical variables\n",
    "label_encoders = {}\n",
    "for column in data.select_dtypes(include=['object']).columns:\n",
    "    le = LabelEncoder()\n",
    "    data[column] = le.fit_transform(data[column])\n",
    "    label_encoders[column] = le"
   ]
  },
  {
   "cell_type": "code",
   "execution_count": 41,
   "metadata": {},
   "outputs": [],
   "source": [
    "# Split data into features (X) and target variable (y)\n",
    "# Features: All columns except for Ingredients\n",
    "X = data.drop(columns=[\"Ingredient\"])  # Features \n",
    "y = data[\"Ingredient\"]  # Target variable"
   ]
  },
  {
   "cell_type": "code",
   "execution_count": 54,
   "metadata": {},
   "outputs": [
    {
     "name": "stdout",
     "output_type": "stream",
     "text": [
      "Accuracy: 0.5263157894736842\n",
      "Shape of X_train: (75, 3)\n",
      "Shape of X_test: (19, 3)\n",
      "Shape of y_train: (75,)\n",
      "Shape of y_test: (19,)\n",
      "\n",
      "Training Data:\n",
      "X_train sample:\n",
      "    Recipe Difficulty  Recipe Category  Dietary Preference\n",
      "91                  2               19                   2\n",
      "83                  2               14                   2\n",
      "7                   0               21                   2\n",
      "92                  2               27                   2\n",
      "17                  2               25                   3\n",
      "\n",
      "y_train sample:\n",
      "91    49\n",
      "83    40\n",
      "7     37\n",
      "92    27\n",
      "17    77\n",
      "Name: Ingredient, dtype: int32\n",
      "\n",
      "Testing Data:\n",
      "X_test sample:\n",
      "    Recipe Difficulty  Recipe Category  Dietary Preference\n",
      "58                  1               27                   2\n",
      "77                  1               13                   4\n",
      "56                  2               24                   3\n",
      "14                  1                9                   2\n",
      "53                  2                7                   2\n",
      "\n",
      "y_test sample:\n",
      "58    32\n",
      "77     8\n",
      "56    65\n",
      "14    69\n",
      "53    30\n",
      "Name: Ingredient, dtype: int32\n"
     ]
    }
   ],
   "source": [
    "# Split the data into training and testing sets\n",
    "X_train, X_test, y_train, y_test = train_test_split(X, y, test_size=0.2, random_state=42)\n",
    "\n",
    "# Define the random forest model"
    "rf_model = RandomForestClassifier()\n"
    "# Train the random forest model\n",
    "rf_model.fit(X_train, y_train)\n",
    "\n",
    "# Predict on the testing set\n",
    "y_pred = rf_model.predict(X_test)\n",
    "\n",
    "# Calculate accuracy\n",
    "accuracy = accuracy_score(y_test, y_pred)\n",
    "print(\"Accuracy:\", accuracy)\n",
    "\n",
    "\n",
    "#### DEBUG ####\n",
    "# Printing the shapes of training and testing data\n",
    "print(\"Shape of X_train:\", X_train.shape)\n",
    "print(\"Shape of X_test:\", X_test.shape)\n",
    "print(\"Shape of y_train:\", y_train.shape)\n",
    "print(\"Shape of y_test:\", y_test.shape)\n",
    "\n",
    "print(\"\\nTraining Data:\")\n",
    "print(\"X_train sample:\")\n",
    "print(X_train.head())  # assuming X_train is a DataFrame\n",
    "print(\"\\ny_train sample:\")\n",
    "print(y_train.head())  # assuming y_train is a Series\n",
    "\n",
    "print(\"\\nTesting Data:\")\n",
    "print(\"X_test sample:\")\n",
    "print(X_test.head())   # assuming X_test is a DataFrame\n",
    "print(\"\\ny_test sample:\")\n",
    "print(y_test.head())   # assuming y_test is a Series"
   ]
  },
  {
   "cell_type": "code",
   "execution_count": 53,
   "metadata": {},
   "outputs": [
    {
     "data": {
      "image/png": "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",
      "text/plain": [
       "<Figure size 1000x600 with 1 Axes>"
      ]
     },
     "metadata": {},
     "output_type": "display_data"
    }
   ],
   "source": [
    "# Which ingredients or other features have the most significant impact on the predicted outcome (ingredient)\n",
    "rf_model = RandomForestClassifier()\n",
    "rf_model.fit(X, y)\n",
    "\n",
    "## IMPORTANCE PLOT (DID NOT PERFORM BOOTSTRAPPING)\n",
    "\n",
    "# Get feature importance\n",
    "feature_importances = rf_model.feature_importances_\n",
    "\n",
    "# Get feature names\n",
    "feature_names = X.columns\n",
    "\n",
    "# Sort feature importance in descending order\n",
    "sorted_indices = feature_importances.argsort()[::-1]\n",
    "sorted_feature_importances = feature_importances[sorted_indices]\n",
    "sorted_feature_names = feature_names[sorted_indices]\n",
    "\n",
    "# Plot\n",
    "plt.figure(figsize=(10, 6))\n",
    "plt.bar(range(len(sorted_feature_importances)), sorted_feature_importances, tick_label=sorted_feature_names)\n",
    "plt.xlabel('Features')\n",
    "plt.ylabel('Importance')\n",
    "plt.title('Feature Importance Plot')\n",
    "plt.xticks(rotation=90)\n",
    "plt.show()"
   ]
  }
 ],
 "metadata": {
  "kernelspec": {
   "display_name": "Python 3",
   "language": "python",
   "name": "python3"
  },
  "language_info": {
   "codemirror_mode": {
    "name": "ipython",
    "version": 3
   },
   "file_extension": ".py",
   "mimetype": "text/x-python",
   "name": "python",
   "nbconvert_exporter": "python",
   "pygments_lexer": "ipython3",
   "version": "3.10.11"
  }
 },
 "nbformat": 4,
 "nbformat_minor": 2
}
